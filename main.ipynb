{
 "cells": [
  {
   "cell_type": "code",
   "execution_count": 2,
   "metadata": {},
   "outputs": [],
   "source": [
    "import csv\n",
    "\n",
    "class Item:\n",
    "    pay_rate = 0.8 # Discount of 20%\n",
    "    all = [] #empty list to contain  all Item objects \n",
    "    def __init__(self,name : str,price : float,quantity : int):\n",
    "        #Run Validation to recieved arguments\n",
    "        assert price >= 0, f\"Price {price} is not greater or equal to 0\"\n",
    "        assert quantity >= 0, f\"Quantity {quantity} is not greater or equal to 0\"\n",
    "\n",
    "        #Assign to self object\n",
    "        self.name = name\n",
    "        self.price = price\n",
    "        self.quantity = quantity\n",
    "\n",
    "        #Actions to execute\n",
    "        Item.all.append(self)\n",
    "    \n",
    "    def calculate_total_price(self):\n",
    "        return (self.price * self.quantity)\n",
    "    \n",
    "    def apply_discount(self):\n",
    "        self.price = self.price * self.pay_rate\n",
    "    \n",
    "    @classmethod\n",
    "    def instantiate_from_csv(cls):\n",
    "        with open('items.csv','r') as file:\n",
    "            reader = csv.DictReader(file)\n",
    "            items = list(reader)\n",
    "        \n",
    "        for item in items:\n",
    "            Item(\n",
    "                name = item.get('name'),\n",
    "                price = float(item.get('price')),\n",
    "                quantity= float(item.get('quantity'))\n",
    "            )\n",
    "    \n",
    "    @staticmethod\n",
    "    def is_integer(num):\n",
    "        if isinstance(num,float):\n",
    "            return num.is_integer()\n",
    "        elif isinstance(num,int):\n",
    "            return True\n",
    "        else:\n",
    "            return False\n",
    "    \n",
    "    def __repr__(self):\n",
    "        return f\"Item({self.name},{self.price},{self.pay_rate},{self.quantity})\""
   ]
  },
  {
   "cell_type": "code",
   "execution_count": 59,
   "metadata": {},
   "outputs": [
    {
     "name": "stdout",
     "output_type": "stream",
     "text": [
      "[Item(Phone,100,0.8,1), Item(Laptop,1000,0.8,3), Item(Cable,10,0.8,5), Item(Mouse,50,0.8,5), Item(Keyboard,75,0.8,5)]\n",
      "\n",
      "\n",
      "Phone\n",
      "Laptop\n",
      "Cable\n",
      "Mouse\n",
      "Keyboard\n"
     ]
    }
   ],
   "source": [
    "item1 = Item(\"Phone\", 100, 1)\n",
    "item2 = Item(\"Laptop\", 1000, 3)\n",
    "item3 = Item(\"Cable\", 10, 5)\n",
    "item4 = Item(\"Mouse\", 50, 5)\n",
    "item5 = Item(\"Keyboard\", 75, 5)\n",
    "\n",
    "print(Item.all)\n",
    "\n",
    "print('\\n')\n",
    "\n",
    "for instance in Item.all:\n",
    "    print(instance.name)\n",
    "\n"
   ]
  },
  {
   "cell_type": "code",
   "execution_count": 70,
   "metadata": {},
   "outputs": [],
   "source": [
    "Item.instantiate_from_csv()"
   ]
  },
  {
   "cell_type": "code",
   "execution_count": 71,
   "metadata": {},
   "outputs": [
    {
     "data": {
      "text/plain": [
       "[Item(Phone,100.0,0.8,1.0),\n",
       " Item(Laptop,1000.0,0.8,3.0),\n",
       " Item(Cable,10.0,0.8,5.0),\n",
       " Item(Mouse,50.0,0.8,5.0),\n",
       " Item(Keyboard,75.0,0.8,5.0)]"
      ]
     },
     "execution_count": 71,
     "metadata": {},
     "output_type": "execute_result"
    }
   ],
   "source": [
    "Item.all"
   ]
  },
  {
   "cell_type": "code",
   "execution_count": 35,
   "metadata": {},
   "outputs": [
    {
     "name": "stdout",
     "output_type": "stream",
     "text": [
      "0.8\n",
      "0.8\n",
      "{'__module__': '__main__', 'pay_rate': 0.8, '__init__': <function Item.__init__ at 0x00000293382EB4C0>, 'calculate_total_price': <function Item.calculate_total_price at 0x00000293382EB670>, 'apply_discount': <function Item.apply_discount at 0x00000293382EB3A0>, '__dict__': <attribute '__dict__' of 'Item' objects>, '__weakref__': <attribute '__weakref__' of 'Item' objects>, '__doc__': None}\n",
      "\n",
      "\n",
      "{'name': 'Phone', 'price': 100, 'quantity': 1}\n"
     ]
    }
   ],
   "source": [
    "print(item1.pay_rate)\n",
    "print(Item.pay_rate)\n",
    "\n",
    "#Magic attribute __dict__\n",
    "print(Item.__dict__)#All the attributes at class level\n",
    "print('\\n')\n",
    "print(item1.__dict__)#All the attributes at instance level"
   ]
  },
  {
   "cell_type": "code",
   "execution_count": 42,
   "metadata": {},
   "outputs": [],
   "source": [
    "item1 = Item(\"Phone\", 100, 1)\n",
    "item2 = Item(\"Laptop\", 1000, 3)\n",
    "item3 = Item(\"Cable\", 10, 5)\n",
    "item4 = Item(\"Mouse\", 50, 5)\n",
    "item5 = Item(\"Keyboard\", 75, 5)"
   ]
  },
  {
   "cell_type": "code",
   "execution_count": 6,
   "metadata": {},
   "outputs": [
    {
     "data": {
      "text/plain": [
       "True"
      ]
     },
     "execution_count": 6,
     "metadata": {},
     "output_type": "execute_result"
    }
   ],
   "source": [
    "Item.is_integer(10.0)"
   ]
  },
  {
   "cell_type": "code",
   "execution_count": null,
   "metadata": {},
   "outputs": [],
   "source": []
  }
 ],
 "metadata": {
  "interpreter": {
   "hash": "b3ba2566441a7c06988d0923437866b63cedc61552a5af99d1f4fb67d367b25f"
  },
  "kernelspec": {
   "display_name": "Python 3.8.12 ('base')",
   "language": "python",
   "name": "python3"
  },
  "language_info": {
   "codemirror_mode": {
    "name": "ipython",
    "version": 3
   },
   "file_extension": ".py",
   "mimetype": "text/x-python",
   "name": "python",
   "nbconvert_exporter": "python",
   "pygments_lexer": "ipython3",
   "version": "3.8.12"
  },
  "orig_nbformat": 4
 },
 "nbformat": 4,
 "nbformat_minor": 2
}
